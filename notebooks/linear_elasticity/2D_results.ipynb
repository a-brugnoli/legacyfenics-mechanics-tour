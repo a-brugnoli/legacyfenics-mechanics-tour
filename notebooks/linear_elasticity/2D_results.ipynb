{
 "cells": [
  {
   "cell_type": "markdown",
   "metadata": {},
   "source": [
    "This notebook solves a 2D elasticity problem using legacy FEniCS. The first foundamental object in FEniCS as then one can declare Finite Element spaces defined on it and associated variational formulations."
   ]
  },
  {
   "cell_type": "code",
   "execution_count": 9,
   "metadata": {},
   "outputs": [],
   "source": [
    "from dolfin import *\n",
    "\n",
    "L = 25.\n",
    "H = 1.\n",
    "Nx = 250\n",
    "Ny = 10\n",
    "mesh = RectangleMesh(Point(0., 0.), Point(L, H), Nx, Ny, \"crossed\")\n"
   ]
  },
  {
   "cell_type": "markdown",
   "metadata": {},
   "source": [
    "The librairy UFL can be used to create custom expression and differential operators. One example is the symmetrized gradient"
   ]
  },
  {
   "cell_type": "code",
   "execution_count": 10,
   "metadata": {},
   "outputs": [],
   "source": [
    "def eps(v):\n",
    "    return sym(grad(v))"
   ]
  },
  {
   "cell_type": "markdown",
   "metadata": {},
   "source": [
    "Next we define the physical properties and constitutive equations"
   ]
  },
  {
   "cell_type": "code",
   "execution_count": 11,
   "metadata": {},
   "outputs": [],
   "source": [
    "E = Constant(1e5)\n",
    "nu = Constant(0.3)\n",
    "model = \"plane_stress\"\n",
    "\n",
    "mu = E/2/(1+nu)\n",
    "lmbda = E*nu/(1+nu)/(1-2*nu)\n",
    "if model == \"plane_stress\":\n",
    "    lmbda = 2*mu*lmbda/(lmbda+2*mu)\n",
    "\n",
    "def sigma(v):\n",
    "    return lmbda*tr(eps(v))*Identity(2) + 2.0*mu*eps(v)"
   ]
  },
  {
   "cell_type": "markdown",
   "metadata": {},
   "source": [
    "We can define the variational problem to be solved in few lines as follows"
   ]
  },
  {
   "cell_type": "code",
   "execution_count": 12,
   "metadata": {},
   "outputs": [],
   "source": [
    "rho_g = 1e-3\n",
    "f = Constant((0, -rho_g))\n",
    "\n",
    "V = VectorFunctionSpace(mesh, 'Lagrange', degree=2)\n",
    "du = TrialFunction(V)\n",
    "u_ = TestFunction(V)\n",
    "a = inner(sigma(du), eps(u_))*dx\n",
    "l = inner(f, u_)*dx\n"
   ]
  },
  {
   "cell_type": "markdown",
   "metadata": {},
   "source": [
    "We want to fix the left side of the domain. This is done via"
   ]
  },
  {
   "cell_type": "code",
   "execution_count": 13,
   "metadata": {},
   "outputs": [],
   "source": [
    "def left(x, on_boundary):\n",
    "    return near(x[0], 0.)\n",
    "\n",
    "bc = DirichletBC(V, Constant((0.,0.)), left)\n"
   ]
  },
  {
   "cell_type": "markdown",
   "metadata": {},
   "source": [
    "The problem is solved via "
   ]
  },
  {
   "cell_type": "code",
   "execution_count": 14,
   "metadata": {},
   "outputs": [
    {
     "name": "stdout",
     "output_type": "stream",
     "text": [
      "Solving linear variational problem.\n",
      "Object cannot be plotted directly, projecting to piecewise linears.\n"
     ]
    },
    {
     "data": {
      "text/plain": [
       "<matplotlib.collections.PolyCollection at 0x7f1f4eee4e00>"
      ]
     },
     "execution_count": 14,
     "metadata": {},
     "output_type": "execute_result"
    },
    {
     "data": {
      "image/png": "[encoded data removed]",
      "text/plain": [
       "<Figure size 640x480 with 1 Axes>"
      ]
     },
     "metadata": {},
     "output_type": "display_data"
    }
   ],
   "source": [
    "u = Function(V, name=\"Displacement\")\n",
    "solve(a == l, u, bc)\n",
    "\n",
    "plot(1e3*u, mode=\"displacement\")"
   ]
  },
  {
   "cell_type": "markdown",
   "metadata": {},
   "source": [
    "Nothing prevents to extract the matrices in PETSc or scipy sparse format. The maximum deflection si then easily obtained via"
   ]
  },
  {
   "cell_type": "code",
   "execution_count": 15,
   "metadata": {},
   "outputs": [
    {
     "name": "stdout",
     "output_type": "stream",
     "text": [
      "Maximal deflection: 0.0058637539436155114\n",
      "Beam theory deflection: 0.005859375\n"
     ]
    }
   ],
   "source": [
    "print(\"Maximal deflection:\", -u(L,H/2.)[1])\n",
    "print(\"Beam theory deflection:\", float(3*rho_g*L**4/2/E/H**3))"
   ]
  },
  {
   "cell_type": "markdown",
   "metadata": {},
   "source": [
    "To plot the stresses we save them in a DG space"
   ]
  },
  {
   "cell_type": "code",
   "execution_count": 17,
   "metadata": {},
   "outputs": [
    {
     "name": "stdout",
     "output_type": "stream",
     "text": [
      "Stress at (0,H): [ 1.72741344 -0.22361951 -0.22361951  0.40196756]\n"
     ]
    }
   ],
   "source": [
    "Vsig = TensorFunctionSpace(mesh, \"DG\", degree=0)\n",
    "sig = Function(Vsig, name=\"Stress\")\n",
    "sig.assign(project(sigma(u), Vsig))\n",
    "print(\"Stress at (0,H):\", sig(0, H))"
   ]
  },
  {
   "cell_type": "markdown",
   "metadata": {},
   "source": [
    "The results are then saved in XDMF format"
   ]
  },
  {
   "cell_type": "code",
   "execution_count": 18,
   "metadata": {},
   "outputs": [],
   "source": [
    "from pathlib import Path\n",
    "folder_results = Path(\"results\")\n",
    "folder_results.mkdir(exist_ok=True, parents=True)\n",
    "filename = folder_results / \"elasticity_results.xdmf\"\n",
    "file_results = XDMFFile(str(filename))\n",
    "file_results.parameters[\"flush_output\"] = True\n",
    "file_results.parameters[\"functions_share_mesh\"] = True\n",
    "file_results.write(u, 0.)\n",
    "file_results.write(sig, 0.)"
   ]
  },
  {
   "cell_type": "code",
   "execution_count": null,
   "metadata": {},
   "outputs": [],
   "source": []
  }
 ],
 "metadata": {
  "kernelspec": {
   "display_name": "fenicsproject",
   "language": "python",
   "name": "python3"
  },
  "language_info": {
   "codemirror_mode": {
    "name": "ipython",
    "version": 3
   },
   "file_extension": ".py",
   "mimetype": "text/x-python",
   "name": "python",
   "nbconvert_exporter": "python",
   "pygments_lexer": "ipython3",
   "version": "3.12.1"
  }
 },
 "nbformat": 4,
 "nbformat_minor": 2
}
