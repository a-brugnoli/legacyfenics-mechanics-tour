{
 "cells": [
  {
   "cell_type": "markdown",
   "metadata": {},
   "source": [
    "# Topology optimization using the SIMP method\n",
    "\n",
    "This numerical tour investigates the optimal design of an elastic structure through a topology optimization approach. It consists in finding the optimal distribution of a material in a computational domain which minimizes the compliance (or, equivalently, maximizes the stiffness) of the resulting structure under a fixed volume fraction constraint.\n",
    "\n",
    "For instance, in the bottom animation, the optimal material density (a continuous field $\\theta(x)\\in[0;1]$) of a cantilever beam evolves with the topoology optimization algorithm iterations. The first 20 iterations correspond to a \"non-penalized\" distribution where intermediate densities (i.e. $0<\\theta(x)<1$) are allowed. However, such a *gray-level* distribution is hard to realize in practice and one would like to obtain a *black-and-white* design of material/void distribution. This is what is achieved in the last iterations where some penalty is applied to intermediate densities, exhibiting finally a truss-like design. Note that the final design is not a global optimum but only a local one. Hence, different designs can well be obtained if changing the initial conditions or the mesh density for instance."
   ]
  },
  {
   "cell_type": "markdown",
   "metadata": {},
   "source": [
    "![](cantilever_beam.gif \"Title\")"
   ]
  },
  {
   "cell_type": "markdown",
   "metadata": {},
   "source": [
    "The present tour relies on one of the most widely implemented approach in topology optimization, namely the  Solid Isotropic Material with Penalisation (SIMP) method developed by Bendsoe and Sigmund [[BEN03]](#References). See also the monograph [[ALL07]](#References) and [Gregoire Allaire's class on *Optimal Design of Structures*](http://www.cmap.polytechnique.fr/~MAP562/index.php) at Ecole Polytechnique. In particular, this tour refers to [lesson 8](http://www.cmap.polytechnique.fr/~MAP562/archives/slides/lesson8.pdf) and is the direct adaptation of the [SIMP Topology Optimization example](http://www.cmap.polytechnique.fr/%7Eallaire/map562/console.simp.edp) of the [CMAP group toolbox written in Freefem++](http://www.cmap.polytechnique.fr/~allaire/freefem.html).\n",
    "\n",
    "This tour should also work in parallel.\n",
    "\n",
    "## Theory\n",
    "\n",
    "### Compliance optimization on binary shapes\n",
    "\n",
    "Let us consider a computational domain $D$ in which we seek an elastic material domain $\\Omega$ ($D\\setminus\\Omega$ representing void) so that the compliance under prescribed loading is minimal when subjected to a fixed volume constraint $\\text{Vol}(\\Omega) = \\eta \\text{Vol}(D)$. Replacing the shape $\\Omega$ by its characteristic function $\\chi(x)\\in \\{0,1\\}$, the previous problem can be formulated as the following optimization problem:\n",
    "\n",
    "$$\\begin{array}{rl}\\displaystyle{\\min_{\\chi}} & \\displaystyle{\\int_D \\boldsymbol{f}\\cdot\\boldsymbol{u}(\\chi) \\text{ dx}+\\int_{\\Gamma_N} \\boldsymbol{T}\\cdot\\boldsymbol{u}(\\chi)\\text{ dS}}\\\\\n",
    "\\text{s.t.} & \\int_D \\chi(x) \\text{ dx} = \\eta \\text{Vol}(D) \\\\\n",
    "& \\chi(x)\\in \\{0,1\\}\n",
    "\\end{array}$$\n",
    "\n",
    "where $\\boldsymbol{u}(\\chi)$ is the solution of the following $\\chi(x)-$dependent elasticity problem:\n",
    "\n",
    "$$\\begin{align}\n",
    "\\text{div}\\, \\boldsymbol{\\sigma} + \\boldsymbol{f}=0 &\\quad\\text{in } D\\\\\n",
    "\\boldsymbol{\\sigma} = \\chi(x)\\mathbb{C}:\\nabla^s \\boldsymbol{u} &\\quad\\text{in } D\\\\\n",
    "\\boldsymbol{\\sigma}\\cdot\\boldsymbol{n} = \\boldsymbol{T} &\\quad\\text{on }\\Gamma_N \\\\\n",
    "\\boldsymbol{u} = 0 &\\quad\\text{on }\\Gamma_D \n",
    "\\end{align}$$\n",
    "\n",
    "where $\\boldsymbol{f}$ is a body force, $\\boldsymbol{T}$ corresponds to surface tractions on $\\Gamma_N$ and $\\mathbb{C}$ is the elastic material stiffness tensor. Owing to the elastic nature of the problem, the compliance can also be expressed using the elastic stress energy density:\n",
    "\n",
    "$$\\int_D \\boldsymbol{f}\\cdot\\boldsymbol{u}(\\chi) \\text{ dx}+\\int_{\\Gamma_N} \\boldsymbol{T}\\cdot\\boldsymbol{u}(\\chi)\\text{ dS}=\\int_D \\boldsymbol{\\sigma}(\\chi):(\\chi(x)\\mathbb{C})^{-1}:\\boldsymbol{\\sigma}(\\chi)\\text{ dx}=\\int_D \\nabla^s \\boldsymbol{u}(\\chi):(\\chi(x)\\mathbb{C}):\\nabla^s \\boldsymbol{u}(\\chi)\\text{ dx}\n",
    "$$\n",
    "\n",
    "so that the above optimization problem can be reformulated as:\n",
    "\n",
    "$$\\begin{array}{rl}\\displaystyle{\\min_{\\chi,\\boldsymbol{u}}} & \\displaystyle{\\int_D \\boldsymbol{\\sigma}(\\chi):(\\chi(x)\\mathbb{C})^{-1}:\\boldsymbol{\\sigma}(\\chi)\\text{ dx}}\\\\\n",
    "\\text{s.t.} & \\text{div}\\, \\boldsymbol{\\sigma} + \\boldsymbol{f}=0 \\quad\\text{in } D\\\\\n",
    "& \\boldsymbol{\\sigma}\\cdot\\boldsymbol{n} = \\boldsymbol{T} \\quad\\text{on }\\Gamma_N \\\\\n",
    "& \\int_D \\chi(x) \\text{ dx} = \\eta \\text{Vol}(D) \\\\\n",
    "& \\chi(x)\\in \\{0,1\\}\n",
    "\\end{array}$$\n",
    "\n",
    "### Continuous relaxation and SIMP penalization\n",
    "\n",
    "The binary constraint $\\chi(x)\\in \\{0,1\\}$ makes the above problem extremely difficult to solve so that a classical remedy consists in relaxing the constraint by a continuous constraint $\\theta(x)\\in [0,1]$ where $\\theta(x)$ will approximate the characteristic function $\\chi(x)$ by a gray-level continuous function taking values between 0 and 1.\n",
    "\n",
    "However, in order to still obtain a final binary density distribution, the binary modulus $\\chi(x)\\mathbb{C}$ will be replaced by $\\theta(x)^p \\mathbb{C}$ with $p>1$ in order to penalize intermediate densities, yielding the so-called *SIMP formulation*:\n",
    "\n",
    "$$\\begin{array}{rl}\\displaystyle{\\min_{\\theta,\\boldsymbol{\\sigma}} J_p(\\theta,\\boldsymbol{\\sigma})=\\min_{\\theta,\\boldsymbol{\\sigma}}} & \\displaystyle{ \\int_D \\boldsymbol{\\sigma}:(\\theta(x)^{-p}\\mathbb{C}^{-1}):\\boldsymbol{\\sigma}\\text{ dx}}\\\\\n",
    "\\text{s.t.} & \\text{div}\\, \\boldsymbol{\\sigma} + \\boldsymbol{f}=0 \\quad\\text{in } D\\\\\n",
    "& \\boldsymbol{\\sigma}\\cdot\\boldsymbol{n} = \\boldsymbol{T} \\quad\\text{on }\\Gamma_N \\\\\n",
    "& \\int_D \\theta(x) \\text{ dx} = \\eta \\text{Vol}(D) \\\\\n",
    "& 0 \\leq \\theta(x) \\leq 1\n",
    "\\end{array}$$\n",
    "\n",
    "### Optimization of the SIMP formulation\n",
    "\n",
    "Unfortunately jointly minimizing $J_p$ over $(\\theta,\\boldsymbol{\\sigma})$ is hard to do in practice since this functional is non-convex (except if $p=1$). However, it is convex over each variable $\\theta$ and $\\boldsymbol{\\sigma}$ when fixing the other variable. This makes alternate minimization an attractive method for finding a local optimum. Besides, minimizing directly for a fixed value of $p>1$ does not work well in practice. A better solution consists in performing alternate minimization steps and progressively increase $p$ from 1 to a maximum value (typically 3 or 4) using some heuristic (see later).\n",
    "\n",
    "Iteration $n+1$ of the algorithm, knowing a previous pair $(\\theta_n,\\boldsymbol{\\sigma}_n)$ and a given value of the penalty exponent $p_{n}$, therefore consists in:\n",
    "\n",
    "* minimizing $J_{p_n}(\\theta_n,\\boldsymbol{\\sigma})$ yielding $\\boldsymbol{\\sigma}_{n+1}=(\\theta_n)^{p_n}\\mathbb{C}:\\nabla^s\\boldsymbol{u}_{n+1}$\n",
    "* minimizing $J_{p_n}(\\theta, \\boldsymbol{\\sigma}_{n+1})$ yielding $\\theta_{n+1}$\n",
    "* potentially update the value of the exponent using some heuristic $p_n \\to p_{n+1}$\n",
    "\n",
    "Both minimization problems are quite easy to solve since the first one is nothing else than a heterogeneous elastic problem with some known modulus $(\\theta_n(x))^{p_n}\\mathbb{C}$.\n",
    "\n",
    "The second problem can be rewritten using the Lagrange multiplier $\\lambda$ corresponding to the toal volume constraint, as follows:\n",
    "\n",
    "$$\\begin{equation*}\n",
    "\\min_{\\theta\\in[0;1]} \\: \\int_D \\theta(x)^{-p_n}e(\\boldsymbol{\\sigma}_{n+1})\\text{ dx} + \\lambda \\left( \\int_D \\theta(x) \\text{ dx} -\\eta \\text{Vol}(D)\\right)\n",
    "\\end{equation*}$$\n",
    "\n",
    "where $e(\\sigma_{n+1}) = \\boldsymbol{\\sigma}_{n+1}:\\mathbb{C}^{-1}:\\boldsymbol{\\sigma}_{n+1}= (\\theta_n)^{p_n} \\boldsymbol{\\sigma}_{n+1}:\\nabla^s \\boldsymbol{u}_{n+1}$. The optimality conditions for this problem yields the following explicit and local condition:\n",
    "\n",
    "$$\\begin{equation*}\n",
    "-p_n \\theta_{n+1}^{-p_n-1} e(\\sigma_{n+1}) + \\lambda = 0\n",
    "\\end{equation*}$$\n",
    "\n",
    "which along with the $[\\theta_{min};1]$ constraint gives:\n",
    "\n",
    "$$\\begin{equation*}\n",
    "\\theta_{n+1} = \\min \\left\\lbrace 1; \\max \\left\\lbrace \\theta_{min}; \\left(\\frac{p_n e(\\sigma_{n+1})}{\\lambda}\\right)^{1/(p_n+1)} \\right\\rbrace\\right\\rbrace\n",
    "\\end{equation*}$$\n",
    "\n",
    "where we replaced the $0$ constraint by a minimum density value $\\theta_{min}>0$ to avoid degeneracy issue with void material.\n",
    "\n",
    "Note that the above expression assumes that $\\lambda$ is known. Its value is found by satsifying the volume constraint $\\int_D \\theta(x) \\text{ dx} =\\eta \\text{Vol}(D)$.\n",
    "\n",
    "## FEniCS implementation\n",
    "\n",
    "We first define some parameters of the algorithm. The most important ones concern the number of total alternate minimizations (AM) `niter` and the parameters controlling the exponent update strategy:\n",
    "\n",
    "* `niternp` corresponds to the number of first (AM) for which $p=1$. These are non-penalized iterations yielding a diffuse gray-level field $\\theta(x)$ at convergence (note that we solve this convex problem with AM iterations although one could use a dedicated convex optimization solver).\n",
    "* `pmax` is the maximum value taken by the penalty exponent $p$\n",
    "* `exponent_update_frequency` corresponds to the minimum number of AM iterations between two consecutive updates of the exponent"
   ]
  },
  {
   "cell_type": "code",
   "execution_count": 31,
   "metadata": {},
   "outputs": [],
   "source": [
    "%matplotlib inline\n",
    "from dolfin import *\n",
    "import matplotlib.pyplot as plt\n",
    "import numpy as np\n",
    "\n",
    "# Algorithmic parameters\n",
    "niternp = 20 # number of non-penalized iterations\n",
    "niter = 80 # total number of iterations\n",
    "pmax = 4        # maximum SIMP exponent\n",
    "exponent_update_frequency = 4 # minimum number of steps between exponent update\n",
    "tol_mass = 1e-4 # tolerance on mass when finding Lagrange multiplier\n",
    "thetamin = 0.001 # minimum density modeling void"
   ]
  },
  {
   "cell_type": "markdown",
   "metadata": {},
   "source": [
    "We now define the problem parameters, in particular the target material density $(\\eta=40\\%$ here). The mesh consists of a rectangle of dimension $4\\times 1$, clamped on its left side and loaded by a uniformly distributed vertical force on a line of length 0.1 centered around the center of the right side.\n",
    "\n",
    "Finally, we initialized the SIMP penalty exponent to $p=1$ and initialized also the density field and the Lagrange multiplier $\\lambda$."
   ]
  },
  {
   "cell_type": "code",
   "execution_count": 32,
   "metadata": {},
   "outputs": [
    {
     "ename": "TypeError",
     "evalue": "object of type 'dolfin.cpp.geometry.Point' has no len()",
     "output_type": "error",
     "traceback": [
      "\u001b[0;31m---------------------------------------------------------------------------\u001b[0m",
      "\u001b[0;31mTypeError\u001b[0m                                 Traceback (most recent call last)",
      "Cell \u001b[0;32mIn[32], line 11\u001b[0m\n\u001b[1;32m      7\u001b[0m f \u001b[38;5;241m=\u001b[39m Constant((\u001b[38;5;241m0\u001b[39m, \u001b[38;5;241m-\u001b[39m\u001b[38;5;241m1\u001b[39m)) \u001b[38;5;66;03m# vertical downwards force\u001b[39;00m\n\u001b[1;32m      9\u001b[0m \u001b[38;5;66;03m# Mesh\u001b[39;00m\n\u001b[1;32m     10\u001b[0m \u001b[38;5;66;03m# mesh = RectangleMesh(Point(-2, 0), Point(2, 1), 20, 10, quadrilateral=True)\u001b[39;00m\n\u001b[0;32m---> 11\u001b[0m mesh \u001b[38;5;241m=\u001b[39m \u001b[43mRectangleMesh\u001b[49m\u001b[38;5;241;43m.\u001b[39;49m\u001b[43mcreate\u001b[49m\u001b[43m(\u001b[49m\u001b[43mPoint\u001b[49m\u001b[43m(\u001b[49m\u001b[38;5;241;43m-\u001b[39;49m\u001b[38;5;241;43m2\u001b[39;49m\u001b[43m,\u001b[49m\u001b[43m \u001b[49m\u001b[38;5;241;43m0\u001b[39;49m\u001b[43m)\u001b[49m\u001b[43m,\u001b[49m\u001b[43m \u001b[49m\u001b[43mPoint\u001b[49m\u001b[43m(\u001b[49m\u001b[38;5;241;43m2\u001b[39;49m\u001b[43m,\u001b[49m\u001b[43m \u001b[49m\u001b[38;5;241;43m1\u001b[39;49m\u001b[43m)\u001b[49m\u001b[43m,\u001b[49m\u001b[43m \u001b[49m\u001b[38;5;241;43m20\u001b[39;49m\u001b[43m,\u001b[49m\u001b[43m \u001b[49m\u001b[38;5;241;43m10\u001b[39;49m\u001b[43m,\u001b[49m\u001b[43m \u001b[49m\u001b[43mCellType\u001b[49m\u001b[38;5;241;43m.\u001b[39;49m\u001b[43mType\u001b[49m\u001b[38;5;241;43m.\u001b[39;49m\u001b[43mquadrilateral\u001b[49m\u001b[43m)\u001b[49m\n\u001b[1;32m     12\u001b[0m \u001b[38;5;66;03m# Boundaries\u001b[39;00m\n\u001b[1;32m     13\u001b[0m \u001b[38;5;28;01mdef\u001b[39;00m \u001b[38;5;21mleft\u001b[39m(x, on_boundary):\n",
      "\u001b[0;31mTypeError\u001b[0m: object of type 'dolfin.cpp.geometry.Point' has no len()"
     ]
    }
   ],
   "source": [
    "# Problem parameters\n",
    "thetamoy = 0.4 # target average material density\n",
    "E = Constant(1)\n",
    "nu = Constant(0.3)\n",
    "lamda = E*nu/(1+nu)/(1-2*nu)\n",
    "mu = E/(2*(1+nu))\n",
    "f = Constant((0, -1)) # vertical downwards force\n",
    "\n",
    "# Mesh\n",
    "# mesh = RectangleMesh(Point(-2, 0), Point(2, 1), 20, 10)\n",
    "mesh = RectangleMesh.create(Point(-2, 0), Point(2, 1), 20, 10, CellType.Type.quadrilateral)\n",
    "# Boundaries\n",
    "def left(x, on_boundary):\n",
    "    return near(x[0], -2) and on_boundary\n",
    "def load(x, on_boundary):\n",
    "    return near(x[0], 2) and near(x[1], 0.5, 0.05)\n",
    "facets = MeshFunction(\"size_t\", mesh, 1)\n",
    "AutoSubDomain(load).mark(facets, 1)\n",
    "ds = Measure(\"ds\", subdomain_data=facets)\n",
    "\n",
    "# Function space for density field\n",
    "V0 = FunctionSpace(mesh, \"DG\", 0)\n",
    "# Function space for displacement\n",
    "V2 = VectorFunctionSpace(mesh, \"CG\", 2)\n",
    "# Fixed boundary condtions\n",
    "bc = DirichletBC(V2, Constant((0, 0)), left)\n",
    "\n",
    "p = Constant(3) # SIMP penalty exponent\n",
    "exponent_counter = 0 # exponent update counter\n",
    "lagrange = Constant(1) # Lagrange multiplier for volume constraint\n",
    "\n",
    "thetaold = Function(V0, name=\"Density\")\n",
    "thetaold.interpolate(Constant(thetamoy))\n",
    "coeff = thetaold**p\n",
    "theta = Function(V0)\n",
    "\n",
    "volume = assemble(Constant(1.)*dx(domain=mesh))\n",
    "avg_density_0 = assemble(thetaold*dx)/volume # initial average density\n",
    "avg_density = 0."
   ]
  },
  {
   "cell_type": "markdown",
   "metadata": {},
   "source": [
    "We now define some useful functions for formulating the linear elastic variational problem."
   ]
  },
  {
   "cell_type": "code",
   "execution_count": null,
   "metadata": {},
   "outputs": [],
   "source": [
    "def eps(v):\n",
    "    return sym(grad(v))\n",
    "def sigma(v):\n",
    "    return coeff*(lamda*div(v)*Identity(2)+2*mu*eps(v))\n",
    "def energy_density(u, v):\n",
    "    return inner(sigma(u), eps(v))\n",
    "\n",
    "# Inhomogeneous elastic variational problem\n",
    "u_ = TestFunction(V2)\n",
    "du = TrialFunction(V2)\n",
    "a = inner(sigma(u_), eps(du))*dx\n",
    "L = dot(f, u_)*ds(1)"
   ]
  },
  {
   "cell_type": "markdown",
   "metadata": {},
   "source": [
    "We now define the function for updating the value of $\\theta$. Note that this function will be called many times in each step since we are finding $\\lambda$ through a dichotomy procedure. For this reason, we make use of the `local_project` function."
   ]
  },
  {
   "cell_type": "code",
   "execution_count": null,
   "metadata": {},
   "outputs": [],
   "source": [
    "def local_project(v, V):\n",
    "    dv = TrialFunction(V)\n",
    "    v_ = TestFunction(V)\n",
    "    a_proj = inner(dv, v_)*dx\n",
    "    b_proj = inner(v, v_)*dx\n",
    "    solver = LocalSolver(a_proj, b_proj)\n",
    "    solver.factorize()\n",
    "    u = Function(V)\n",
    "    solver.solve_local_rhs(u)\n",
    "    return u\n",
    "\n",
    "def update_theta():\n",
    "    theta.assign(local_project((p*coeff*energy_density(u, u)/lagrange)**(1/(p+1)), V0))\n",
    "    thetav = theta.vector().get_local()\n",
    "    theta.vector().set_local(np.maximum(np.minimum(1, thetav), thetamin))\n",
    "    theta.vector().apply(\"insert\")\n",
    "    avg_density = assemble(theta*dx)/volume\n",
    "    return avg_density"
   ]
  },
  {
   "cell_type": "markdown",
   "metadata": {},
   "source": [
    "We now define a function for finding the correct value of the Lagrange multiplier $\\lambda$. First, a rough bracketing of $\\lambda$ is obtained, then a dichotomy is performed in the interval `[lagmin,lagmax]` until the correct average density is obtained to a certain tolerance."
   ]
  },
  {
   "cell_type": "code",
   "execution_count": null,
   "metadata": {},
   "outputs": [],
   "source": [
    "def update_lagrange_multiplier(avg_density):\n",
    "    avg_density1 = avg_density\n",
    "    # Initial bracketing of Lagrange multiplier\n",
    "    if (avg_density1 < avg_density_0):\n",
    "        lagmin = float(lagrange)\n",
    "        while (avg_density < avg_density_0):\n",
    "            lagrange.assign(Constant(lagrange/2))\n",
    "            avg_density = update_theta()\n",
    "        lagmax = float(lagrange)\n",
    "    elif (avg_density1 > avg_density_0):\n",
    "        lagmax = float(lagrange)\n",
    "        while (avg_density > avg_density_0):\n",
    "            lagrange.assign(Constant(lagrange*2))\n",
    "            avg_density = update_theta()\n",
    "        lagmin = float(lagrange)\n",
    "    else:\n",
    "        lagmin = float(lagrange)\n",
    "        lagmax = float(lagrange)\n",
    "\n",
    "    # Dichotomy on Lagrange multiplier\n",
    "    inddico=0\n",
    "    while ((abs(1.-avg_density/avg_density_0)) > tol_mass):\n",
    "        lagrange.assign(Constant((lagmax+lagmin)/2))\n",
    "        avg_density = update_theta()\n",
    "        inddico += 1;\n",
    "        if (avg_density < avg_density_0):\n",
    "            lagmin = float(lagrange)\n",
    "        else:\n",
    "            lagmax = float(lagrange)\n",
    "    print(\"   Dichotomy iterations:\", inddico)\n"
   ]
  },
  {
   "cell_type": "markdown",
   "metadata": {},
   "source": [
    "Finally, the exponent update strategy is implemented:\n",
    "\n",
    "* first, $p=1$ for the first `niternp` iterations\n",
    "* then, $p$ is increased by some amount which depends on the average gray level of the density field computed as $g = \\frac{1}{\\text{Vol(D)}}\\int_D 4(\\theta-\\theta_{min})(1-\\theta)\\text{ dx}$, that is $g=0$ is $\\theta(x)=\\theta_{min}$ or $1$ everywhere and $g=1$ is $\\theta=(\\theta_{min}+1)/2$ everywhere.\n",
    "* Note that $p$ can increase only if at least `exponent_update_frequency` AM iterations have been performed since the last update and only if the compliance evolution falls below a certain threshold."
   ]
  },
  {
   "cell_type": "code",
   "execution_count": null,
   "metadata": {},
   "outputs": [],
   "source": [
    "def update_exponent(exponent_counter):\n",
    "    exponent_counter += 1\n",
    "    if (i < niternp):\n",
    "        p.assign(Constant(1))\n",
    "    elif (i >= niternp):\n",
    "        if i == niternp:\n",
    "            print(\"\\n Starting penalized iterations\\n\")\n",
    "        if ((abs(compliance-old_compliance) < 0.01*compliance_history[0]) and \n",
    "            (exponent_counter > exponent_update_frequency) ):\n",
    "            # average gray level\n",
    "            gray_level = assemble((theta-thetamin)*(1.-theta)*dx)*4/volume\n",
    "            p.assign(Constant(min(float(p)*(1+0.3**(1.+gray_level/2)), pmax)))\n",
    "            exponent_counter = 0\n",
    "            print(\"   Updated SIMP exponent p = \", float(p))\n",
    "    return exponent_counter\n"
   ]
  },
  {
   "cell_type": "markdown",
   "metadata": {},
   "source": [
    "Finally, the global loop for the algorithm is implemented consisting, at each iteration, of the elasticity problem resolution, the corresponding compliance computation, the update for $\\theta$ and its associated Lagrange multiplier $\\lambda$ and the exponent update procedure."
   ]
  },
  {
   "cell_type": "code",
   "execution_count": null,
   "metadata": {},
   "outputs": [
    {
     "name": "stdout",
     "output_type": "stream",
     "text": [
      "Calling FFC just-in-time (JIT) compiler, this may take some time.\n",
      "Calling FFC just-in-time (JIT) compiler, this may take some time.\n"
     ]
    },
    {
     "name": "stdout",
     "output_type": "stream",
     "text": [
      "Calling FFC just-in-time (JIT) compiler, this may take some time.\n",
      "Calling FFC just-in-time (JIT) compiler, this may take some time.\n",
      "Calling FFC just-in-time (JIT) compiler, this may take some time.\n",
      "Calling FFC just-in-time (JIT) compiler, this may take some time.\n",
      "Calling FFC just-in-time (JIT) compiler, this may take some time.\n",
      "Solving linear variational problem.\n",
      "Calling FFC just-in-time (JIT) compiler, this may take some time.\n",
      "  *** Warning: Found no facets matching domain for boundary condition.\n",
      "Calling FFC just-in-time (JIT) compiler, this may take some time.\n",
      "Calling FFC just-in-time (JIT) compiler, this may take some time.\n",
      "Calling FFC just-in-time (JIT) compiler, this may take some time.\n",
      "Iteration 0: compliance = 0.0\n",
      "Calling FFC just-in-time (JIT) compiler, this may take some time.\n",
      "Calling FFC just-in-time (JIT) compiler, this may take some time.\n",
      "   Dichotomy iterations: 0\n",
      "Solving linear variational problem.\n",
      "  *** Warning: Found no facets matching domain for boundary condition.\n"
     ]
    },
    {
     "ename": "RuntimeError",
     "evalue": "\n\n*** -------------------------------------------------------------------------\n*** DOLFIN encountered an error. If you are not able to resolve this issue\n*** using the information listed below, you can ask for help at\n***\n***     fenics-support@googlegroups.com\n***\n*** Remember to include the error message listed below and, if possible,\n*** include a *minimal* running example to reproduce the error.\n***\n*** -------------------------------------------------------------------------\n*** Error:   Unable to solve linear system using PETSc Krylov solver.\n*** Reason:  Solution failed to converge in 0 iterations (PETSc reason DIVERGED_NANORINF, residual norm ||r|| = nan).\n*** Where:   This error was encountered inside PETScKrylovSolver.cpp.\n*** Process: 0\n*** \n*** DOLFIN version: 2019.1.0\n*** Git changeset:  2e001bd1aae8e14d758264f77382245e6eed04b0\n*** -------------------------------------------------------------------------\n",
     "output_type": "error",
     "traceback": [
      "\u001b[0;31m---------------------------------------------------------------------------\u001b[0m",
      "\u001b[0;31mRuntimeError\u001b[0m                              Traceback (most recent call last)",
      "Cell \u001b[0;32mIn[28], line 8\u001b[0m\n\u001b[1;32m      6\u001b[0m compliance_history \u001b[38;5;241m=\u001b[39m []\n\u001b[1;32m      7\u001b[0m \u001b[38;5;28;01mfor\u001b[39;00m i \u001b[38;5;129;01min\u001b[39;00m \u001b[38;5;28mrange\u001b[39m(niter):\n\u001b[0;32m----> 8\u001b[0m     \u001b[43msolve\u001b[49m\u001b[43m(\u001b[49m\u001b[43ma\u001b[49m\u001b[43m \u001b[49m\u001b[38;5;241;43m==\u001b[39;49m\u001b[43m \u001b[49m\u001b[43mL\u001b[49m\u001b[43m,\u001b[49m\u001b[43m \u001b[49m\u001b[43mu\u001b[49m\u001b[43m,\u001b[49m\u001b[43m \u001b[49m\u001b[43mbc\u001b[49m\u001b[43m,\u001b[49m\u001b[43m \u001b[49m\u001b[43msolver_parameters\u001b[49m\u001b[38;5;241;43m=\u001b[39;49m\u001b[43m{\u001b[49m\u001b[38;5;124;43m\"\u001b[39;49m\u001b[38;5;124;43mlinear_solver\u001b[39;49m\u001b[38;5;124;43m\"\u001b[39;49m\u001b[43m:\u001b[49m\u001b[43m \u001b[49m\u001b[38;5;124;43m\"\u001b[39;49m\u001b[38;5;124;43mcg\u001b[39;49m\u001b[38;5;124;43m\"\u001b[39;49m\u001b[43m,\u001b[49m\u001b[43m \u001b[49m\u001b[38;5;124;43m\"\u001b[39;49m\u001b[38;5;124;43mpreconditioner\u001b[39;49m\u001b[38;5;124;43m\"\u001b[39;49m\u001b[43m:\u001b[49m\u001b[43m \u001b[49m\u001b[38;5;124;43m\"\u001b[39;49m\u001b[38;5;124;43mhypre_amg\u001b[39;49m\u001b[38;5;124;43m\"\u001b[39;49m\u001b[43m}\u001b[49m\u001b[43m)\u001b[49m\n\u001b[1;32m      9\u001b[0m     ffile\u001b[38;5;241m.\u001b[39mwrite(thetaold, i)\n\u001b[1;32m     10\u001b[0m     ffile\u001b[38;5;241m.\u001b[39mwrite(u, i)\n",
      "File \u001b[0;32m~/miniconda3/envs/fenicsproject/lib/python3.12/site-packages/dolfin/fem/solving.py:220\u001b[0m, in \u001b[0;36msolve\u001b[0;34m(*args, **kwargs)\u001b[0m\n\u001b[1;32m    217\u001b[0m \u001b[38;5;66;03m# Call variational problem solver if we get an equation (but not a\u001b[39;00m\n\u001b[1;32m    218\u001b[0m \u001b[38;5;66;03m# tolerance)\u001b[39;00m\n\u001b[1;32m    219\u001b[0m \u001b[38;5;28;01melif\u001b[39;00m \u001b[38;5;28misinstance\u001b[39m(args[\u001b[38;5;241m0\u001b[39m], ufl\u001b[38;5;241m.\u001b[39mclasses\u001b[38;5;241m.\u001b[39mEquation):\n\u001b[0;32m--> 220\u001b[0m     \u001b[43m_solve_varproblem\u001b[49m\u001b[43m(\u001b[49m\u001b[38;5;241;43m*\u001b[39;49m\u001b[43margs\u001b[49m\u001b[43m,\u001b[49m\u001b[43m \u001b[49m\u001b[38;5;241;43m*\u001b[39;49m\u001b[38;5;241;43m*\u001b[39;49m\u001b[43mkwargs\u001b[49m\u001b[43m)\u001b[49m\n\u001b[1;32m    222\u001b[0m \u001b[38;5;66;03m# Default case, just call the wrapped C++ solve function\u001b[39;00m\n\u001b[1;32m    223\u001b[0m \u001b[38;5;28;01melse\u001b[39;00m:\n\u001b[1;32m    224\u001b[0m     \u001b[38;5;28;01mif\u001b[39;00m kwargs:\n",
      "File \u001b[0;32m~/miniconda3/envs/fenicsproject/lib/python3.12/site-packages/dolfin/fem/solving.py:247\u001b[0m, in \u001b[0;36m_solve_varproblem\u001b[0;34m(*args, **kwargs)\u001b[0m\n\u001b[1;32m    245\u001b[0m     solver \u001b[38;5;241m=\u001b[39m LinearVariationalSolver(problem)\n\u001b[1;32m    246\u001b[0m     solver\u001b[38;5;241m.\u001b[39mparameters\u001b[38;5;241m.\u001b[39mupdate(solver_parameters)\n\u001b[0;32m--> 247\u001b[0m     \u001b[43msolver\u001b[49m\u001b[38;5;241;43m.\u001b[39;49m\u001b[43msolve\u001b[49m\u001b[43m(\u001b[49m\u001b[43m)\u001b[49m\n\u001b[1;32m    249\u001b[0m \u001b[38;5;66;03m# Solve nonlinear variational problem\u001b[39;00m\n\u001b[1;32m    250\u001b[0m \u001b[38;5;28;01melse\u001b[39;00m:\n\u001b[1;32m    251\u001b[0m \n\u001b[1;32m    252\u001b[0m     \u001b[38;5;66;03m# Create Jacobian if missing\u001b[39;00m\n\u001b[1;32m    253\u001b[0m     \u001b[38;5;28;01mif\u001b[39;00m J \u001b[38;5;129;01mis\u001b[39;00m \u001b[38;5;28;01mNone\u001b[39;00m:\n",
      "\u001b[0;31mRuntimeError\u001b[0m: \n\n*** -------------------------------------------------------------------------\n*** DOLFIN encountered an error. If you are not able to resolve this issue\n*** using the information listed below, you can ask for help at\n***\n***     fenics-support@googlegroups.com\n***\n*** Remember to include the error message listed below and, if possible,\n*** include a *minimal* running example to reproduce the error.\n***\n*** -------------------------------------------------------------------------\n*** Error:   Unable to solve linear system using PETSc Krylov solver.\n*** Reason:  Solution failed to converge in 0 iterations (PETSc reason DIVERGED_NANORINF, residual norm ||r|| = nan).\n*** Where:   This error was encountered inside PETScKrylovSolver.cpp.\n*** Process: 0\n*** \n*** DOLFIN version: 2019.1.0\n*** Git changeset:  2e001bd1aae8e14d758264f77382245e6eed04b0\n*** -------------------------------------------------------------------------\n"
     ]
    }
   ],
   "source": [
    "u = Function(V2, name=\"Displacement\")\n",
    "old_compliance = 1e30\n",
    "ffile = XDMFFile(\"topology_optimization.xdmf\")\n",
    "ffile.parameters[\"flush_output\"]=True\n",
    "ffile.parameters[\"functions_share_mesh\"]=True\n",
    "compliance_history = []\n",
    "for i in range(niter):\n",
    "    solve(a == L, u, bc, solver_parameters={\"linear_solver\": \"cg\", \"preconditioner\": \"hypre_amg\"})\n",
    "    ffile.write(thetaold, i)\n",
    "    ffile.write(u, i)\n",
    "\n",
    "    compliance = assemble(action(L, u))\n",
    "    compliance_history.append(compliance)\n",
    "    print(\"Iteration {}: compliance =\".format(i), compliance)\n",
    "\n",
    "    avg_density = update_theta()\n",
    "\n",
    "    update_lagrange_multiplier(avg_density)\n",
    "\n",
    "    # exponent_counter = update_exponent(exponent_counter)\n",
    "\n",
    "    # Update theta field and compliance\n",
    "    thetaold.assign(theta)\n",
    "    old_compliance = compliance"
   ]
  },
  {
   "cell_type": "markdown",
   "metadata": {},
   "source": [
    "The final density is represented as well as the convergence history of the compliance. One can note that the final compliance obtained after the first non-penalized iterations is smaller than the final one. This initially obtained topology is therefore more optimal than the final one, although it is made of large diffuse gray regions (see XMDF outputs or the animation at the beginning of the tour) contrary to the final one which is close to being binary."
   ]
  },
  {
   "cell_type": "code",
   "execution_count": null,
   "metadata": {},
   "outputs": [
    {
     "data": {
      "image/png": "[encoded data removed]",
      "text/plain": [
       "<Figure size 640x480 with 1 Axes>"
      ]
     },
     "metadata": {},
     "output_type": "display_data"
    },
    {
     "data": {
      "image/png": "[encoded data removed]",
      "text/plain": [
       "<Figure size 640x480 with 1 Axes>"
      ]
     },
     "metadata": {},
     "output_type": "display_data"
    }
   ],
   "source": [
    "plot(theta, cmap=\"bone_r\")\n",
    "plt.title(\"Final density\")\n",
    "\n",
    "plt.figure()\n",
    "plt.plot(np.arange(1, niter+1), compliance_history)\n",
    "ax = plt.gca()\n",
    "ymax = ax.get_ylim()[1]\n",
    "plt.plot([niternp, niternp], [0, ymax], \"--k\")\n",
    "plt.annotate(r\"$\\leftarrow$ Penalized iterations $\\rightarrow$\", xy=[niternp+1, ymax*0.02], fontsize=14)\n",
    "plt.xlabel(\"Number of iterations\")\n",
    "plt.ylabel(\"Compliance\")\n",
    "plt.title(\"Convergence history\", fontsize=16)\n",
    "plt.show()"
   ]
  },
  {
   "cell_type": "markdown",
   "metadata": {},
   "source": [
    "## References\n",
    "\n",
    "[ALL07]: Allaire, Grégoire, and Marc Schoenauer. *Conception optimale de structures.* Vol. 58. Berlin: Springer, 2007.\n",
    "\n",
    "[BEN03]: Bendsoe, Martin Philip and Sigmund, Ole. *Topology Optimization: Theory, Methods, and Applications*. Springer Science & Business Media, 2003."
   ]
  }
 ],
 "metadata": {
  "celltoolbar": "Format de la Cellule Texte Brut",
  "kernelspec": {
   "display_name": "Python 3",
   "language": "python",
   "name": "python3"
  },
  "language_info": {
   "codemirror_mode": {
    "name": "ipython",
    "version": 3
   },
   "file_extension": ".py",
   "mimetype": "text/x-python",
   "name": "python",
   "nbconvert_exporter": "python",
   "pygments_lexer": "ipython3",
   "version": "3.12.1"
  },
  "toc": {
   "base_numbering": 1,
   "nav_menu": {},
   "number_sections": false,
   "sideBar": true,
   "skip_h1_title": false,
   "title_cell": "Table of Contents",
   "title_sidebar": "Contents",
   "toc_cell": false,
   "toc_position": {},
   "toc_section_display": true,
   "toc_window_display": false
  }
 },
 "nbformat": 4,
 "nbformat_minor": 4
}
